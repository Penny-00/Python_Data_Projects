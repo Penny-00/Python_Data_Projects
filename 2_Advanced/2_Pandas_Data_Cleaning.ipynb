{
 "cells": [
  {
   "cell_type": "code",
   "execution_count": 1,
   "id": "3bdf7454",
   "metadata": {},
   "outputs": [],
   "source": [
    "#Importing Libraries\n",
    "import pandas as pd\n",
    "from datasets import load_dataset\n",
    "import matplotlib.pyplot as plt\n",
    "\n",
    "#Loading Data\n",
    "dataset = load_dataset(\"lukebarousse/data_jobs\")\n",
    "df = dataset['train'].to_pandas()\n",
    "\n",
    "#Data Cleanup\n",
    "df['job_posted_date'] = pd.to_datetime(df['job_posted_date'])\n"
   ]
  },
  {
   "cell_type": "code",
   "execution_count": 3,
   "id": "cadb4a99",
   "metadata": {},
   "outputs": [
    {
     "data": {
      "text/html": [
       "<div>\n",
       "<style scoped>\n",
       "    .dataframe tbody tr th:only-of-type {\n",
       "        vertical-align: middle;\n",
       "    }\n",
       "\n",
       "    .dataframe tbody tr th {\n",
       "        vertical-align: top;\n",
       "    }\n",
       "\n",
       "    .dataframe thead th {\n",
       "        text-align: right;\n",
       "    }\n",
       "</style>\n",
       "<table border=\"1\" class=\"dataframe\">\n",
       "  <thead>\n",
       "    <tr style=\"text-align: right;\">\n",
       "      <th></th>\n",
       "      <th>salary_rate</th>\n",
       "      <th>salary_year_avg</th>\n",
       "      <th>salary_hour_avg</th>\n",
       "    </tr>\n",
       "  </thead>\n",
       "  <tbody>\n",
       "    <tr>\n",
       "      <th>0</th>\n",
       "      <td>None</td>\n",
       "      <td>NaN</td>\n",
       "      <td>NaN</td>\n",
       "    </tr>\n",
       "    <tr>\n",
       "      <th>1</th>\n",
       "      <td>None</td>\n",
       "      <td>NaN</td>\n",
       "      <td>NaN</td>\n",
       "    </tr>\n",
       "    <tr>\n",
       "      <th>2</th>\n",
       "      <td>None</td>\n",
       "      <td>NaN</td>\n",
       "      <td>NaN</td>\n",
       "    </tr>\n",
       "    <tr>\n",
       "      <th>3</th>\n",
       "      <td>None</td>\n",
       "      <td>NaN</td>\n",
       "      <td>NaN</td>\n",
       "    </tr>\n",
       "    <tr>\n",
       "      <th>4</th>\n",
       "      <td>None</td>\n",
       "      <td>NaN</td>\n",
       "      <td>NaN</td>\n",
       "    </tr>\n",
       "    <tr>\n",
       "      <th>...</th>\n",
       "      <td>...</td>\n",
       "      <td>...</td>\n",
       "      <td>...</td>\n",
       "    </tr>\n",
       "    <tr>\n",
       "      <th>785736</th>\n",
       "      <td>None</td>\n",
       "      <td>NaN</td>\n",
       "      <td>NaN</td>\n",
       "    </tr>\n",
       "    <tr>\n",
       "      <th>785737</th>\n",
       "      <td>None</td>\n",
       "      <td>NaN</td>\n",
       "      <td>NaN</td>\n",
       "    </tr>\n",
       "    <tr>\n",
       "      <th>785738</th>\n",
       "      <td>None</td>\n",
       "      <td>NaN</td>\n",
       "      <td>NaN</td>\n",
       "    </tr>\n",
       "    <tr>\n",
       "      <th>785739</th>\n",
       "      <td>None</td>\n",
       "      <td>NaN</td>\n",
       "      <td>NaN</td>\n",
       "    </tr>\n",
       "    <tr>\n",
       "      <th>785740</th>\n",
       "      <td>None</td>\n",
       "      <td>NaN</td>\n",
       "      <td>NaN</td>\n",
       "    </tr>\n",
       "  </tbody>\n",
       "</table>\n",
       "<p>785741 rows × 3 columns</p>\n",
       "</div>"
      ],
      "text/plain": [
       "       salary_rate  salary_year_avg  salary_hour_avg\n",
       "0             None              NaN              NaN\n",
       "1             None              NaN              NaN\n",
       "2             None              NaN              NaN\n",
       "3             None              NaN              NaN\n",
       "4             None              NaN              NaN\n",
       "...            ...              ...              ...\n",
       "785736        None              NaN              NaN\n",
       "785737        None              NaN              NaN\n",
       "785738        None              NaN              NaN\n",
       "785739        None              NaN              NaN\n",
       "785740        None              NaN              NaN\n",
       "\n",
       "[785741 rows x 3 columns]"
      ]
     },
     "execution_count": 3,
     "metadata": {},
     "output_type": "execute_result"
    }
   ],
   "source": [
    "df.loc[:, 'salary_rate': 'salary_hour_avg']"
   ]
  },
  {
   "cell_type": "code",
   "execution_count": 6,
   "id": "60f31268",
   "metadata": {},
   "outputs": [],
   "source": [
    "median_salary_year = df['salary_year_avg'].median()"
   ]
  },
  {
   "cell_type": "code",
   "execution_count": 7,
   "id": "133bdfa7",
   "metadata": {},
   "outputs": [],
   "source": [
    "median_salary_hour = df['salary_hour_avg'].median()"
   ]
  },
  {
   "cell_type": "code",
   "execution_count": 8,
   "id": "4e2a643a",
   "metadata": {},
   "outputs": [],
   "source": [
    "df_filled = df\n",
    "\n",
    "df_filled['salary_year_avg'] = df_filled['salary_year_avg'].fillna(median_salary_year)\n",
    "df_filled['salary_hour_avg'] = df_filled['salary_hour_avg'].fillna(median_salary_hour)"
   ]
  },
  {
   "cell_type": "code",
   "execution_count": 10,
   "id": "f9f5fada",
   "metadata": {},
   "outputs": [
    {
     "data": {
      "text/html": [
       "<div>\n",
       "<style scoped>\n",
       "    .dataframe tbody tr th:only-of-type {\n",
       "        vertical-align: middle;\n",
       "    }\n",
       "\n",
       "    .dataframe tbody tr th {\n",
       "        vertical-align: top;\n",
       "    }\n",
       "\n",
       "    .dataframe thead th {\n",
       "        text-align: right;\n",
       "    }\n",
       "</style>\n",
       "<table border=\"1\" class=\"dataframe\">\n",
       "  <thead>\n",
       "    <tr style=\"text-align: right;\">\n",
       "      <th></th>\n",
       "      <th>salary_rate</th>\n",
       "      <th>salary_year_avg</th>\n",
       "      <th>salary_hour_avg</th>\n",
       "    </tr>\n",
       "  </thead>\n",
       "  <tbody>\n",
       "    <tr>\n",
       "      <th>0</th>\n",
       "      <td>None</td>\n",
       "      <td>115000.0</td>\n",
       "      <td>45.98</td>\n",
       "    </tr>\n",
       "    <tr>\n",
       "      <th>1</th>\n",
       "      <td>None</td>\n",
       "      <td>115000.0</td>\n",
       "      <td>45.98</td>\n",
       "    </tr>\n",
       "    <tr>\n",
       "      <th>2</th>\n",
       "      <td>None</td>\n",
       "      <td>115000.0</td>\n",
       "      <td>45.98</td>\n",
       "    </tr>\n",
       "    <tr>\n",
       "      <th>3</th>\n",
       "      <td>None</td>\n",
       "      <td>115000.0</td>\n",
       "      <td>45.98</td>\n",
       "    </tr>\n",
       "    <tr>\n",
       "      <th>4</th>\n",
       "      <td>None</td>\n",
       "      <td>115000.0</td>\n",
       "      <td>45.98</td>\n",
       "    </tr>\n",
       "    <tr>\n",
       "      <th>5</th>\n",
       "      <td>None</td>\n",
       "      <td>115000.0</td>\n",
       "      <td>45.98</td>\n",
       "    </tr>\n",
       "    <tr>\n",
       "      <th>6</th>\n",
       "      <td>None</td>\n",
       "      <td>115000.0</td>\n",
       "      <td>45.98</td>\n",
       "    </tr>\n",
       "    <tr>\n",
       "      <th>7</th>\n",
       "      <td>None</td>\n",
       "      <td>115000.0</td>\n",
       "      <td>45.98</td>\n",
       "    </tr>\n",
       "    <tr>\n",
       "      <th>8</th>\n",
       "      <td>None</td>\n",
       "      <td>115000.0</td>\n",
       "      <td>45.98</td>\n",
       "    </tr>\n",
       "    <tr>\n",
       "      <th>9</th>\n",
       "      <td>None</td>\n",
       "      <td>115000.0</td>\n",
       "      <td>45.98</td>\n",
       "    </tr>\n",
       "    <tr>\n",
       "      <th>10</th>\n",
       "      <td>None</td>\n",
       "      <td>115000.0</td>\n",
       "      <td>45.98</td>\n",
       "    </tr>\n",
       "  </tbody>\n",
       "</table>\n",
       "</div>"
      ],
      "text/plain": [
       "   salary_rate  salary_year_avg  salary_hour_avg\n",
       "0         None         115000.0            45.98\n",
       "1         None         115000.0            45.98\n",
       "2         None         115000.0            45.98\n",
       "3         None         115000.0            45.98\n",
       "4         None         115000.0            45.98\n",
       "5         None         115000.0            45.98\n",
       "6         None         115000.0            45.98\n",
       "7         None         115000.0            45.98\n",
       "8         None         115000.0            45.98\n",
       "9         None         115000.0            45.98\n",
       "10        None         115000.0            45.98"
      ]
     },
     "execution_count": 10,
     "metadata": {},
     "output_type": "execute_result"
    }
   ],
   "source": [
    "df_filled.loc[:10, 'salary_rate': 'salary_hour_avg']"
   ]
  },
  {
   "cell_type": "code",
   "execution_count": 15,
   "id": "6a4c8286",
   "metadata": {},
   "outputs": [
    {
     "name": "stdout",
     "output_type": "stream",
     "text": [
      "Length of original df:     785741\n",
      "Length of unique df:       785640\n",
      "Rows Dropped:              101\n"
     ]
    }
   ],
   "source": [
    "df_unique = df_filled\n",
    "\n",
    "df_unique = df_unique.drop_duplicates()\n",
    "\n",
    "print('Length of original df:    ',len(df_filled))\n",
    "print('Length of unique df:      ',len(df_unique))\n",
    "print('Rows Dropped:             ',len(df_filled) - len(df_unique))\n",
    "\n"
   ]
  },
  {
   "cell_type": "code",
   "execution_count": 18,
   "id": "a7570353",
   "metadata": {},
   "outputs": [
    {
     "name": "stdout",
     "output_type": "stream",
     "text": [
      "Length of original df:     785741\n",
      "Length of unique df:       508042\n",
      "Rows Dropped:              277699\n"
     ]
    }
   ],
   "source": [
    "df_unique = df_unique.drop_duplicates(subset=['job_title', 'company_name'])\n",
    "\n",
    "print('Length of original df:    ',len(df_filled))\n",
    "print('Length of unique df:      ',len(df_unique))\n",
    "print('Rows Dropped:             ',len(df_filled) - len(df_unique))\n"
   ]
  },
  {
   "cell_type": "code",
   "execution_count": 20,
   "id": "35642332",
   "metadata": {},
   "outputs": [
    {
     "data": {
      "text/plain": [
       "False"
      ]
     },
     "execution_count": 20,
     "metadata": {},
     "output_type": "execute_result"
    }
   ],
   "source": [
    "id(df_filled) == id(df_unique)  # Check if the two DataFrames are the same object in memory"
   ]
  },
  {
   "cell_type": "code",
   "execution_count": 21,
   "id": "b6b56a08",
   "metadata": {},
   "outputs": [
    {
     "data": {
      "text/plain": [
       "True"
      ]
     },
     "execution_count": 21,
     "metadata": {},
     "output_type": "execute_result"
    }
   ],
   "source": [
    "id(df_filled) == id(df)  # Check if the filled DataFrame is the same as the original DataFrame"
   ]
  },
  {
   "cell_type": "code",
   "execution_count": 22,
   "id": "49ec8ad3",
   "metadata": {},
   "outputs": [],
   "source": [
    "# id(df_filled) == id(df) because df_filled was initially assigned as df_filled = df,\n",
    "# so both variables point to the same DataFrame object in memory until modifications are made.\n",
    "\n",
    "# id(df_filled) != id(df_unique) because df_unique was created by dropping duplicates from df_filled,\n",
    "# which returns a new DataFrame object, so df_unique points to a different object in memory."
   ]
  },
  {
   "cell_type": "code",
   "execution_count": null,
   "id": "7e758172",
   "metadata": {},
   "outputs": [],
   "source": []
  }
 ],
 "metadata": {
  "kernelspec": {
   "display_name": "base",
   "language": "python",
   "name": "python3"
  },
  "language_info": {
   "codemirror_mode": {
    "name": "ipython",
    "version": 3
   },
   "file_extension": ".py",
   "mimetype": "text/x-python",
   "name": "python",
   "nbconvert_exporter": "python",
   "pygments_lexer": "ipython3",
   "version": "3.13.5"
  }
 },
 "nbformat": 4,
 "nbformat_minor": 5
}
